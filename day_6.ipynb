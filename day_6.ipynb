{
 "cells": [
  {
   "cell_type": "code",
   "execution_count": 8,
   "id": "fb4d7183",
   "metadata": {},
   "outputs": [
    {
     "name": "stdout",
     "output_type": "stream",
     "text": [
      "Collecting seaborn\n",
      "  Using cached seaborn-0.13.2-py3-none-any.whl.metadata (5.4 kB)\n",
      "Requirement already satisfied: numpy!=1.24.0,>=1.20 in c:\\users\\abhiram\\.ai-navigator\\micromamba\\envs\\cpu\\lib\\site-packages (from seaborn) (2.3.1)\n",
      "Requirement already satisfied: pandas>=1.2 in c:\\users\\abhiram\\.ai-navigator\\micromamba\\envs\\cpu\\lib\\site-packages (from seaborn) (2.3.1)\n",
      "Requirement already satisfied: matplotlib!=3.6.1,>=3.4 in c:\\users\\abhiram\\.ai-navigator\\micromamba\\envs\\cpu\\lib\\site-packages (from seaborn) (3.10.3)\n",
      "Requirement already satisfied: contourpy>=1.0.1 in c:\\users\\abhiram\\.ai-navigator\\micromamba\\envs\\cpu\\lib\\site-packages (from matplotlib!=3.6.1,>=3.4->seaborn) (1.3.3)\n",
      "Requirement already satisfied: cycler>=0.10 in c:\\users\\abhiram\\.ai-navigator\\micromamba\\envs\\cpu\\lib\\site-packages (from matplotlib!=3.6.1,>=3.4->seaborn) (0.12.1)\n",
      "Requirement already satisfied: fonttools>=4.22.0 in c:\\users\\abhiram\\.ai-navigator\\micromamba\\envs\\cpu\\lib\\site-packages (from matplotlib!=3.6.1,>=3.4->seaborn) (4.59.0)\n",
      "Requirement already satisfied: kiwisolver>=1.3.1 in c:\\users\\abhiram\\.ai-navigator\\micromamba\\envs\\cpu\\lib\\site-packages (from matplotlib!=3.6.1,>=3.4->seaborn) (1.4.8)\n",
      "Requirement already satisfied: packaging>=20.0 in c:\\users\\abhiram\\.ai-navigator\\micromamba\\envs\\cpu\\lib\\site-packages (from matplotlib!=3.6.1,>=3.4->seaborn) (25.0)\n",
      "Requirement already satisfied: pillow>=8 in c:\\users\\abhiram\\.ai-navigator\\micromamba\\envs\\cpu\\lib\\site-packages (from matplotlib!=3.6.1,>=3.4->seaborn) (11.3.0)\n",
      "Requirement already satisfied: pyparsing>=2.3.1 in c:\\users\\abhiram\\.ai-navigator\\micromamba\\envs\\cpu\\lib\\site-packages (from matplotlib!=3.6.1,>=3.4->seaborn) (3.2.3)\n",
      "Requirement already satisfied: python-dateutil>=2.7 in c:\\users\\abhiram\\.ai-navigator\\micromamba\\envs\\cpu\\lib\\site-packages (from matplotlib!=3.6.1,>=3.4->seaborn) (2.9.0.post0)\n",
      "Requirement already satisfied: pytz>=2020.1 in c:\\users\\abhiram\\.ai-navigator\\micromamba\\envs\\cpu\\lib\\site-packages (from pandas>=1.2->seaborn) (2025.2)\n",
      "Requirement already satisfied: tzdata>=2022.7 in c:\\users\\abhiram\\.ai-navigator\\micromamba\\envs\\cpu\\lib\\site-packages (from pandas>=1.2->seaborn) (2025.2)\n",
      "Requirement already satisfied: six>=1.5 in c:\\users\\abhiram\\.ai-navigator\\micromamba\\envs\\cpu\\lib\\site-packages (from python-dateutil>=2.7->matplotlib!=3.6.1,>=3.4->seaborn) (1.17.0)\n",
      "Using cached seaborn-0.13.2-py3-none-any.whl (294 kB)\n",
      "Installing collected packages: seaborn\n",
      "Successfully installed seaborn-0.13.2\n",
      "Note: you may need to restart the kernel to use updated packages.\n"
     ]
    }
   ],
   "source": [
    "pip install seaborn"
   ]
  },
  {
   "cell_type": "code",
   "execution_count": 1,
   "id": "184ca3e9",
   "metadata": {},
   "outputs": [],
   "source": [
    "\n",
    "import pandas as pd\n",
    "import numpy as np\n",
    "import matplotlib.pyplot as plt\n",
    "import seaborn as sns"
   ]
  },
  {
   "cell_type": "code",
   "execution_count": 2,
   "id": "89de2f94",
   "metadata": {},
   "outputs": [],
   "source": [
    "df = pd.read_excel('https://raw.githubusercontent.com/singhrau0/Big-Data-Preprocessing/refs/heads/main/Sample%20-%20Superstore.xls')"
   ]
  },
  {
   "cell_type": "code",
   "execution_count": 3,
   "id": "fc79f818",
   "metadata": {},
   "outputs": [
    {
     "data": {
      "application/vnd.microsoft.datawrangler.viewer.v0+json": {
       "columns": [
        {
         "name": "index",
         "rawType": "int64",
         "type": "integer"
        },
        {
         "name": "Row ID",
         "rawType": "int64",
         "type": "integer"
        },
        {
         "name": "Order ID",
         "rawType": "object",
         "type": "string"
        },
        {
         "name": "Order Date",
         "rawType": "datetime64[ns]",
         "type": "datetime"
        },
        {
         "name": "Ship Date",
         "rawType": "datetime64[ns]",
         "type": "datetime"
        },
        {
         "name": "Ship Mode",
         "rawType": "object",
         "type": "string"
        },
        {
         "name": "Customer ID",
         "rawType": "object",
         "type": "string"
        },
        {
         "name": "Customer Name",
         "rawType": "object",
         "type": "string"
        },
        {
         "name": "Segment",
         "rawType": "object",
         "type": "string"
        },
        {
         "name": "Country",
         "rawType": "object",
         "type": "string"
        },
        {
         "name": "City",
         "rawType": "object",
         "type": "string"
        },
        {
         "name": "State",
         "rawType": "object",
         "type": "string"
        },
        {
         "name": "Postal Code",
         "rawType": "int64",
         "type": "integer"
        },
        {
         "name": "Region",
         "rawType": "object",
         "type": "string"
        },
        {
         "name": "Product ID",
         "rawType": "object",
         "type": "string"
        },
        {
         "name": "Category",
         "rawType": "object",
         "type": "string"
        },
        {
         "name": "Sub-Category",
         "rawType": "object",
         "type": "string"
        },
        {
         "name": "Product Name",
         "rawType": "object",
         "type": "string"
        },
        {
         "name": "Sales",
         "rawType": "float64",
         "type": "float"
        },
        {
         "name": "Quantity",
         "rawType": "int64",
         "type": "integer"
        },
        {
         "name": "Discount",
         "rawType": "float64",
         "type": "float"
        },
        {
         "name": "Profit",
         "rawType": "float64",
         "type": "float"
        }
       ],
       "ref": "35c95a76-d6c7-45b1-ba71-8fd421d54d18",
       "rows": [
        [
         "0",
         "1",
         "CA-2016-152156",
         "2016-11-08 00:00:00",
         "2016-11-11 00:00:00",
         "Second Class",
         "CG-12520",
         "Claire Gute",
         "Consumer",
         "United States",
         "Henderson",
         "Kentucky",
         "42420",
         "South",
         "FUR-BO-10001798",
         "Furniture",
         "Bookcases",
         "Bush Somerset Collection Bookcase",
         "261.96",
         "2",
         "0.0",
         "41.9136"
        ],
        [
         "1",
         "2",
         "CA-2016-152156",
         "2016-11-08 00:00:00",
         "2016-11-11 00:00:00",
         "Second Class",
         "CG-12520",
         "Claire Gute",
         "Consumer",
         "United States",
         "Henderson",
         "Kentucky",
         "42420",
         "South",
         "FUR-CH-10000454",
         "Furniture",
         "Chairs",
         "Hon Deluxe Fabric Upholstered Stacking Chairs, Rounded Back",
         "731.9399999999999",
         "3",
         "0.0",
         "219.58199999999997"
        ],
        [
         "2",
         "3",
         "CA-2016-138688",
         "2016-06-12 00:00:00",
         "2016-06-16 00:00:00",
         "Second Class",
         "DV-13045",
         "Darrin Van Huff",
         "Corporate",
         "United States",
         "Los Angeles",
         "California",
         "90036",
         "West",
         "OFF-LA-10000240",
         "Office Supplies",
         "Labels",
         "Self-Adhesive Address Labels for Typewriters by Universal",
         "14.62",
         "2",
         "0.0",
         "6.8713999999999995"
        ],
        [
         "3",
         "4",
         "US-2015-108966",
         "2015-10-11 00:00:00",
         "2015-10-18 00:00:00",
         "Standard Class",
         "SO-20335",
         "Sean O'Donnell",
         "Consumer",
         "United States",
         "Fort Lauderdale",
         "Florida",
         "33311",
         "South",
         "FUR-TA-10000577",
         "Furniture",
         "Tables",
         "Bretford CR4500 Series Slim Rectangular Table",
         "957.5775",
         "5",
         "0.45",
         "-383.03100000000006"
        ],
        [
         "4",
         "5",
         "US-2015-108966",
         "2015-10-11 00:00:00",
         "2015-10-18 00:00:00",
         "Standard Class",
         "SO-20335",
         "Sean O'Donnell",
         "Consumer",
         "United States",
         "Fort Lauderdale",
         "Florida",
         "33311",
         "South",
         "OFF-ST-10000760",
         "Office Supplies",
         "Storage",
         "Eldon Fold 'N Roll Cart System",
         "22.368000000000002",
         "2",
         "0.2",
         "2.516399999999999"
        ],
        [
         "5",
         "6",
         "CA-2014-115812",
         "2014-06-09 00:00:00",
         "2014-06-14 00:00:00",
         "Standard Class",
         "BH-11710",
         "Brosina Hoffman",
         "Consumer",
         "United States",
         "Los Angeles",
         "California",
         "90032",
         "West",
         "FUR-FU-10001487",
         "Furniture",
         "Furnishings",
         "Eldon Expressions Wood and Plastic Desk Accessories, Cherry Wood",
         "48.86",
         "7",
         "0.0",
         "14.169399999999996"
        ],
        [
         "6",
         "7",
         "CA-2014-115812",
         "2014-06-09 00:00:00",
         "2014-06-14 00:00:00",
         "Standard Class",
         "BH-11710",
         "Brosina Hoffman",
         "Consumer",
         "United States",
         "Los Angeles",
         "California",
         "90032",
         "West",
         "OFF-AR-10002833",
         "Office Supplies",
         "Art",
         "Newell 322",
         "7.28",
         "4",
         "0.0",
         "1.9656000000000002"
        ],
        [
         "7",
         "8",
         "CA-2014-115812",
         "2014-06-09 00:00:00",
         "2014-06-14 00:00:00",
         "Standard Class",
         "BH-11710",
         "Brosina Hoffman",
         "Consumer",
         "United States",
         "Los Angeles",
         "California",
         "90032",
         "West",
         "TEC-PH-10002275",
         "Technology",
         "Phones",
         "Mitel 5320 IP Phone VoIP phone",
         "907.152",
         "6",
         "0.2",
         "90.71520000000004"
        ],
        [
         "8",
         "9",
         "CA-2014-115812",
         "2014-06-09 00:00:00",
         "2014-06-14 00:00:00",
         "Standard Class",
         "BH-11710",
         "Brosina Hoffman",
         "Consumer",
         "United States",
         "Los Angeles",
         "California",
         "90032",
         "West",
         "OFF-BI-10003910",
         "Office Supplies",
         "Binders",
         "DXL Angle-View Binders with Locking Rings by Samsill",
         "18.504",
         "3",
         "0.2",
         "5.7825"
        ],
        [
         "9",
         "10",
         "CA-2014-115812",
         "2014-06-09 00:00:00",
         "2014-06-14 00:00:00",
         "Standard Class",
         "BH-11710",
         "Brosina Hoffman",
         "Consumer",
         "United States",
         "Los Angeles",
         "California",
         "90032",
         "West",
         "OFF-AP-10002892",
         "Office Supplies",
         "Appliances",
         "Belkin F5C206VTEL 6 Outlet Surge",
         "114.9",
         "5",
         "0.0",
         "34.46999999999999"
        ],
        [
         "10",
         "11",
         "CA-2014-115812",
         "2014-06-09 00:00:00",
         "2014-06-14 00:00:00",
         "Standard Class",
         "BH-11710",
         "Brosina Hoffman",
         "Consumer",
         "United States",
         "Los Angeles",
         "California",
         "90032",
         "West",
         "FUR-TA-10001539",
         "Furniture",
         "Tables",
         "Chromcraft Rectangular Conference Tables",
         "1706.1840000000002",
         "9",
         "0.2",
         "85.3091999999998"
        ],
        [
         "11",
         "12",
         "CA-2014-115812",
         "2014-06-09 00:00:00",
         "2014-06-14 00:00:00",
         "Standard Class",
         "BH-11710",
         "Brosina Hoffman",
         "Consumer",
         "United States",
         "Los Angeles",
         "California",
         "90032",
         "West",
         "TEC-PH-10002033",
         "Technology",
         "Phones",
         "Konftel 250 Conference phone - Charcoal black",
         "911.424",
         "4",
         "0.2",
         "68.35680000000002"
        ],
        [
         "12",
         "13",
         "CA-2017-114412",
         "2017-04-15 00:00:00",
         "2017-04-20 00:00:00",
         "Standard Class",
         "AA-10480",
         "Andrew Allen",
         "Consumer",
         "United States",
         "Concord",
         "North Carolina",
         "28027",
         "South",
         "OFF-PA-10002365",
         "Office Supplies",
         "Paper",
         "Xerox 1967",
         "15.552000000000003",
         "3",
         "0.2",
         "5.4432"
        ],
        [
         "13",
         "14",
         "CA-2016-161389",
         "2016-12-05 00:00:00",
         "2016-12-10 00:00:00",
         "Standard Class",
         "IM-15070",
         "Irene Maddox",
         "Consumer",
         "United States",
         "Seattle",
         "Washington",
         "98103",
         "West",
         "OFF-BI-10003656",
         "Office Supplies",
         "Binders",
         "Fellowes PB200 Plastic Comb Binding Machine",
         "407.97600000000006",
         "3",
         "0.2",
         "132.59219999999993"
        ],
        [
         "14",
         "15",
         "US-2015-118983",
         "2015-11-22 00:00:00",
         "2015-11-26 00:00:00",
         "Standard Class",
         "HP-14815",
         "Harold Pawlan",
         "Home Office",
         "United States",
         "Fort Worth",
         "Texas",
         "76106",
         "Central",
         "OFF-AP-10002311",
         "Office Supplies",
         "Appliances",
         "Holmes Replacement Filter for HEPA Air Cleaner, Very Large Room, HEPA Filter",
         "68.80999999999999",
         "5",
         "0.8",
         "-123.858"
        ],
        [
         "15",
         "16",
         "US-2015-118983",
         "2015-11-22 00:00:00",
         "2015-11-26 00:00:00",
         "Standard Class",
         "HP-14815",
         "Harold Pawlan",
         "Home Office",
         "United States",
         "Fort Worth",
         "Texas",
         "76106",
         "Central",
         "OFF-BI-10000756",
         "Office Supplies",
         "Binders",
         "Storex DuraTech Recycled Plastic Frosted Binders",
         "2.5439999999999996",
         "3",
         "0.8",
         "-3.8160000000000016"
        ],
        [
         "16",
         "17",
         "CA-2014-105893",
         "2014-11-11 00:00:00",
         "2014-11-18 00:00:00",
         "Standard Class",
         "PK-19075",
         "Pete Kriz",
         "Consumer",
         "United States",
         "Madison",
         "Wisconsin",
         "53711",
         "Central",
         "OFF-ST-10004186",
         "Office Supplies",
         "Storage",
         "Stur-D-Stor Shelving, Vertical 5-Shelf: 72\"H x 36\"W x 18 1/2\"D",
         "665.88",
         "6",
         "0.0",
         "13.317599999999999"
        ],
        [
         "17",
         "18",
         "CA-2014-167164",
         "2014-05-13 00:00:00",
         "2014-05-15 00:00:00",
         "Second Class",
         "AG-10270",
         "Alejandro Grove",
         "Consumer",
         "United States",
         "West Jordan",
         "Utah",
         "84084",
         "West",
         "OFF-ST-10000107",
         "Office Supplies",
         "Storage",
         "Fellowes Super Stor/Drawer",
         "55.5",
         "2",
         "0.0",
         "9.989999999999995"
        ],
        [
         "18",
         "19",
         "CA-2014-143336",
         "2014-08-27 00:00:00",
         "2014-09-01 00:00:00",
         "Second Class",
         "ZD-21925",
         "Zuschuss Donatelli",
         "Consumer",
         "United States",
         "San Francisco",
         "California",
         "94109",
         "West",
         "OFF-AR-10003056",
         "Office Supplies",
         "Art",
         "Newell 341",
         "8.56",
         "2",
         "0.0",
         "2.4823999999999993"
        ],
        [
         "19",
         "20",
         "CA-2014-143336",
         "2014-08-27 00:00:00",
         "2014-09-01 00:00:00",
         "Second Class",
         "ZD-21925",
         "Zuschuss Donatelli",
         "Consumer",
         "United States",
         "San Francisco",
         "California",
         "94109",
         "West",
         "TEC-PH-10001949",
         "Technology",
         "Phones",
         "Cisco SPA 501G IP Phone",
         "213.48000000000002",
         "3",
         "0.2",
         "16.01099999999998"
        ],
        [
         "20",
         "21",
         "CA-2014-143336",
         "2014-08-27 00:00:00",
         "2014-09-01 00:00:00",
         "Second Class",
         "ZD-21925",
         "Zuschuss Donatelli",
         "Consumer",
         "United States",
         "San Francisco",
         "California",
         "94109",
         "West",
         "OFF-BI-10002215",
         "Office Supplies",
         "Binders",
         "Wilson Jones Hanging View Binder, White, 1\"",
         "22.72",
         "4",
         "0.2",
         "7.383999999999999"
        ],
        [
         "21",
         "22",
         "CA-2016-137330",
         "2016-12-09 00:00:00",
         "2016-12-13 00:00:00",
         "Standard Class",
         "KB-16585",
         "Ken Black",
         "Corporate",
         "United States",
         "Fremont",
         "Nebraska",
         "68025",
         "Central",
         "OFF-AR-10000246",
         "Office Supplies",
         "Art",
         "Newell 318",
         "19.459999999999997",
         "7",
         "0.0",
         "5.0596"
        ],
        [
         "22",
         "23",
         "CA-2016-137330",
         "2016-12-09 00:00:00",
         "2016-12-13 00:00:00",
         "Standard Class",
         "KB-16585",
         "Ken Black",
         "Corporate",
         "United States",
         "Fremont",
         "Nebraska",
         "68025",
         "Central",
         "OFF-AP-10001492",
         "Office Supplies",
         "Appliances",
         "Acco Six-Outlet Power Strip, 4' Cord Length",
         "60.339999999999996",
         "7",
         "0.0",
         "15.688400000000001"
        ],
        [
         "23",
         "24",
         "US-2017-156909",
         "2017-07-16 00:00:00",
         "2017-07-18 00:00:00",
         "Second Class",
         "SF-20065",
         "Sandra Flanagan",
         "Consumer",
         "United States",
         "Philadelphia",
         "Pennsylvania",
         "19140",
         "East",
         "FUR-CH-10002774",
         "Furniture",
         "Chairs",
         "Global Deluxe Stacking Chair, Gray",
         "71.37199999999999",
         "2",
         "0.3",
         "-1.0196000000000005"
        ],
        [
         "24",
         "25",
         "CA-2015-106320",
         "2015-09-25 00:00:00",
         "2015-09-30 00:00:00",
         "Standard Class",
         "EB-13870",
         "Emily Burns",
         "Consumer",
         "United States",
         "Orem",
         "Utah",
         "84057",
         "West",
         "FUR-TA-10000577",
         "Furniture",
         "Tables",
         "Bretford CR4500 Series Slim Rectangular Table",
         "1044.6299999999999",
         "3",
         "0.0",
         "240.2649"
        ],
        [
         "25",
         "26",
         "CA-2016-121755",
         "2016-01-16 00:00:00",
         "2016-01-20 00:00:00",
         "Second Class",
         "EH-13945",
         "Eric Hoffmann",
         "Consumer",
         "United States",
         "Los Angeles",
         "California",
         "90049",
         "West",
         "OFF-BI-10001634",
         "Office Supplies",
         "Binders",
         "Wilson Jones Active Use Binders",
         "11.648000000000001",
         "2",
         "0.2",
         "4.2224"
        ],
        [
         "26",
         "27",
         "CA-2016-121755",
         "2016-01-16 00:00:00",
         "2016-01-20 00:00:00",
         "Second Class",
         "EH-13945",
         "Eric Hoffmann",
         "Consumer",
         "United States",
         "Los Angeles",
         "California",
         "90049",
         "West",
         "TEC-AC-10003027",
         "Technology",
         "Accessories",
         "Imation 8GB Mini TravelDrive USB 2.0 Flash Drive",
         "90.57000000000001",
         "3",
         "0.0",
         "11.774100000000004"
        ],
        [
         "27",
         "28",
         "US-2015-150630",
         "2015-09-17 00:00:00",
         "2015-09-21 00:00:00",
         "Standard Class",
         "TB-21520",
         "Tracy Blumstein",
         "Consumer",
         "United States",
         "Philadelphia",
         "Pennsylvania",
         "19140",
         "East",
         "FUR-BO-10004834",
         "Furniture",
         "Bookcases",
         "Riverside Palais Royal Lawyers Bookcase, Royale Cherry Finish",
         "3083.4300000000003",
         "7",
         "0.5",
         "-1665.0522"
        ],
        [
         "28",
         "29",
         "US-2015-150630",
         "2015-09-17 00:00:00",
         "2015-09-21 00:00:00",
         "Standard Class",
         "TB-21520",
         "Tracy Blumstein",
         "Consumer",
         "United States",
         "Philadelphia",
         "Pennsylvania",
         "19140",
         "East",
         "OFF-BI-10000474",
         "Office Supplies",
         "Binders",
         "Avery Recycled Flexi-View Covers for Binding Systems",
         "9.618000000000002",
         "2",
         "0.7",
         "-7.0532"
        ],
        [
         "29",
         "30",
         "US-2015-150630",
         "2015-09-17 00:00:00",
         "2015-09-21 00:00:00",
         "Standard Class",
         "TB-21520",
         "Tracy Blumstein",
         "Consumer",
         "United States",
         "Philadelphia",
         "Pennsylvania",
         "19140",
         "East",
         "FUR-FU-10004848",
         "Furniture",
         "Furnishings",
         "Howard Miller 13-3/4\" Diameter Brushed Chrome Round Wall Clock",
         "124.20000000000002",
         "3",
         "0.2",
         "15.524999999999991"
        ],
        [
         "30",
         "31",
         "US-2015-150630",
         "2015-09-17 00:00:00",
         "2015-09-21 00:00:00",
         "Standard Class",
         "TB-21520",
         "Tracy Blumstein",
         "Consumer",
         "United States",
         "Philadelphia",
         "Pennsylvania",
         "19140",
         "East",
         "OFF-EN-10001509",
         "Office Supplies",
         "Envelopes",
         "Poly String Tie Envelopes",
         "3.2640000000000002",
         "2",
         "0.2",
         "1.1015999999999997"
        ],
        [
         "31",
         "32",
         "US-2015-150630",
         "2015-09-17 00:00:00",
         "2015-09-21 00:00:00",
         "Standard Class",
         "TB-21520",
         "Tracy Blumstein",
         "Consumer",
         "United States",
         "Philadelphia",
         "Pennsylvania",
         "19140",
         "East",
         "OFF-AR-10004042",
         "Office Supplies",
         "Art",
         "BOSTON Model 1800 Electric Pencil Sharpeners, Putty/Woodgrain",
         "86.304",
         "6",
         "0.2",
         "9.709199999999989"
        ],
        [
         "32",
         "33",
         "US-2015-150630",
         "2015-09-17 00:00:00",
         "2015-09-21 00:00:00",
         "Standard Class",
         "TB-21520",
         "Tracy Blumstein",
         "Consumer",
         "United States",
         "Philadelphia",
         "Pennsylvania",
         "19140",
         "East",
         "OFF-BI-10001525",
         "Office Supplies",
         "Binders",
         "Acco Pressboard Covers with Storage Hooks, 14 7/8\" x 11\", Executive Red",
         "6.858000000000001",
         "6",
         "0.7",
         "-5.715"
        ],
        [
         "33",
         "34",
         "US-2015-150630",
         "2015-09-17 00:00:00",
         "2015-09-21 00:00:00",
         "Standard Class",
         "TB-21520",
         "Tracy Blumstein",
         "Consumer",
         "United States",
         "Philadelphia",
         "Pennsylvania",
         "19140",
         "East",
         "OFF-AR-10001683",
         "Office Supplies",
         "Art",
         "Lumber Crayons",
         "15.76",
         "2",
         "0.2",
         "3.5460000000000007"
        ],
        [
         "34",
         "35",
         "CA-2017-107727",
         "2017-10-19 00:00:00",
         "2017-10-23 00:00:00",
         "Second Class",
         "MA-17560",
         "Matt Abelman",
         "Home Office",
         "United States",
         "Houston",
         "Texas",
         "77095",
         "Central",
         "OFF-PA-10000249",
         "Office Supplies",
         "Paper",
         "Easy-staple paper",
         "29.472",
         "3",
         "0.2",
         "9.946799999999998"
        ],
        [
         "35",
         "36",
         "CA-2016-117590",
         "2016-12-08 00:00:00",
         "2016-12-10 00:00:00",
         "First Class",
         "GH-14485",
         "Gene Hale",
         "Corporate",
         "United States",
         "Richardson",
         "Texas",
         "75080",
         "Central",
         "TEC-PH-10004977",
         "Technology",
         "Phones",
         "GE 30524EE4",
         "1097.5440000000003",
         "7",
         "0.2",
         "123.4736999999999"
        ],
        [
         "36",
         "37",
         "CA-2016-117590",
         "2016-12-08 00:00:00",
         "2016-12-10 00:00:00",
         "First Class",
         "GH-14485",
         "Gene Hale",
         "Corporate",
         "United States",
         "Richardson",
         "Texas",
         "75080",
         "Central",
         "FUR-FU-10003664",
         "Furniture",
         "Furnishings",
         "Electrix Architect's Clamp-On Swing Arm Lamp, Black",
         "190.92",
         "5",
         "0.6",
         "-147.96300000000002"
        ],
        [
         "37",
         "38",
         "CA-2015-117415",
         "2015-12-27 00:00:00",
         "2015-12-31 00:00:00",
         "Standard Class",
         "SN-20710",
         "Steve Nguyen",
         "Home Office",
         "United States",
         "Houston",
         "Texas",
         "77041",
         "Central",
         "OFF-EN-10002986",
         "Office Supplies",
         "Envelopes",
         "#10-4 1/8\" x 9 1/2\" Premium Diagonal Seam Envelopes",
         "113.328",
         "9",
         "0.2",
         "35.415"
        ],
        [
         "38",
         "39",
         "CA-2015-117415",
         "2015-12-27 00:00:00",
         "2015-12-31 00:00:00",
         "Standard Class",
         "SN-20710",
         "Steve Nguyen",
         "Home Office",
         "United States",
         "Houston",
         "Texas",
         "77041",
         "Central",
         "FUR-BO-10002545",
         "Furniture",
         "Bookcases",
         "Atlantic Metals Mobile 3-Shelf Bookcases, Custom Colors",
         "532.3992",
         "3",
         "0.32",
         "-46.97640000000001"
        ],
        [
         "39",
         "40",
         "CA-2015-117415",
         "2015-12-27 00:00:00",
         "2015-12-31 00:00:00",
         "Standard Class",
         "SN-20710",
         "Steve Nguyen",
         "Home Office",
         "United States",
         "Houston",
         "Texas",
         "77041",
         "Central",
         "FUR-CH-10004218",
         "Furniture",
         "Chairs",
         "Global Fabric Manager's Chair, Dark Gray",
         "212.058",
         "3",
         "0.3",
         "-15.146999999999991"
        ],
        [
         "40",
         "41",
         "CA-2015-117415",
         "2015-12-27 00:00:00",
         "2015-12-31 00:00:00",
         "Standard Class",
         "SN-20710",
         "Steve Nguyen",
         "Home Office",
         "United States",
         "Houston",
         "Texas",
         "77041",
         "Central",
         "TEC-PH-10000486",
         "Technology",
         "Phones",
         "Plantronics HL10 Handset Lifter",
         "371.168",
         "4",
         "0.2",
         "41.75639999999996"
        ],
        [
         "41",
         "42",
         "CA-2017-120999",
         "2017-09-10 00:00:00",
         "2017-09-15 00:00:00",
         "Standard Class",
         "LC-16930",
         "Linda Cazamias",
         "Corporate",
         "United States",
         "Naperville",
         "Illinois",
         "60540",
         "Central",
         "TEC-PH-10004093",
         "Technology",
         "Phones",
         "Panasonic Kx-TS550",
         "147.168",
         "4",
         "0.2",
         "16.556399999999996"
        ],
        [
         "42",
         "43",
         "CA-2016-101343",
         "2016-07-17 00:00:00",
         "2016-07-22 00:00:00",
         "Standard Class",
         "RA-19885",
         "Ruben Ausman",
         "Corporate",
         "United States",
         "Los Angeles",
         "California",
         "90049",
         "West",
         "OFF-ST-10003479",
         "Office Supplies",
         "Storage",
         "Eldon Base for stackable storage shelf, platinum",
         "77.88",
         "2",
         "0.0",
         "3.8939999999999912"
        ],
        [
         "43",
         "44",
         "CA-2017-139619",
         "2017-09-19 00:00:00",
         "2017-09-23 00:00:00",
         "Standard Class",
         "ES-14080",
         "Erin Smith",
         "Corporate",
         "United States",
         "Melbourne",
         "Florida",
         "32935",
         "South",
         "OFF-ST-10003282",
         "Office Supplies",
         "Storage",
         "Advantus 10-Drawer Portable Organizer, Chrome Metal Frame, Smoke Drawers",
         "95.616",
         "2",
         "0.2",
         "9.56160000000001"
        ],
        [
         "44",
         "45",
         "CA-2016-118255",
         "2016-03-11 00:00:00",
         "2016-03-13 00:00:00",
         "First Class",
         "ON-18715",
         "Odella Nelson",
         "Corporate",
         "United States",
         "Eagan",
         "Minnesota",
         "55122",
         "Central",
         "TEC-AC-10000171",
         "Technology",
         "Accessories",
         "Verbatim 25 GB 6x Blu-ray Single Layer Recordable Disc, 25/Pack",
         "45.98",
         "2",
         "0.0",
         "19.7714"
        ],
        [
         "45",
         "46",
         "CA-2016-118255",
         "2016-03-11 00:00:00",
         "2016-03-13 00:00:00",
         "First Class",
         "ON-18715",
         "Odella Nelson",
         "Corporate",
         "United States",
         "Eagan",
         "Minnesota",
         "55122",
         "Central",
         "OFF-BI-10003291",
         "Office Supplies",
         "Binders",
         "Wilson Jones Leather-Like Binders with DublLock Round Rings",
         "17.46",
         "2",
         "0.0",
         "8.206199999999999"
        ],
        [
         "46",
         "47",
         "CA-2014-146703",
         "2014-10-20 00:00:00",
         "2014-10-25 00:00:00",
         "Second Class",
         "PO-18865",
         "Patrick O'Donnell",
         "Consumer",
         "United States",
         "Westland",
         "Michigan",
         "48185",
         "Central",
         "OFF-ST-10001713",
         "Office Supplies",
         "Storage",
         "Gould Plastics 9-Pocket Panel Bin, 18-3/8w x 5-1/4d x 20-1/2h, Black",
         "211.96",
         "4",
         "0.0",
         "8.478399999999993"
        ],
        [
         "47",
         "48",
         "CA-2016-169194",
         "2016-06-20 00:00:00",
         "2016-06-25 00:00:00",
         "Standard Class",
         "LH-16900",
         "Lena Hernandez",
         "Consumer",
         "United States",
         "Dover",
         "Delaware",
         "19901",
         "East",
         "TEC-AC-10002167",
         "Technology",
         "Accessories",
         "Imation 8gb Micro Traveldrive Usb 2.0 Flash Drive",
         "45.0",
         "3",
         "0.0",
         "4.950000000000001"
        ],
        [
         "48",
         "49",
         "CA-2016-169194",
         "2016-06-20 00:00:00",
         "2016-06-25 00:00:00",
         "Standard Class",
         "LH-16900",
         "Lena Hernandez",
         "Consumer",
         "United States",
         "Dover",
         "Delaware",
         "19901",
         "East",
         "TEC-PH-10003988",
         "Technology",
         "Phones",
         "LF Elite 3D Dazzle Designer Hard Case Cover, Lf Stylus Pen and Wiper For Apple Iphone 5c Mini Lite",
         "21.8",
         "2",
         "0.0",
         "6.104000000000001"
        ],
        [
         "49",
         "50",
         "CA-2015-115742",
         "2015-04-18 00:00:00",
         "2015-04-22 00:00:00",
         "Standard Class",
         "DP-13000",
         "Darren Powers",
         "Consumer",
         "United States",
         "New Albany",
         "Indiana",
         "47150",
         "Central",
         "OFF-BI-10004410",
         "Office Supplies",
         "Binders",
         "C-Line Peel & Stick Add-On Filing Pockets, 8-3/4 x 5-1/8, 10/Pack",
         "38.22",
         "6",
         "0.0",
         "17.9634"
        ]
       ],
       "shape": {
        "columns": 21,
        "rows": 9994
       }
      },
      "text/html": [
       "<div>\n",
       "<style scoped>\n",
       "    .dataframe tbody tr th:only-of-type {\n",
       "        vertical-align: middle;\n",
       "    }\n",
       "\n",
       "    .dataframe tbody tr th {\n",
       "        vertical-align: top;\n",
       "    }\n",
       "\n",
       "    .dataframe thead th {\n",
       "        text-align: right;\n",
       "    }\n",
       "</style>\n",
       "<table border=\"1\" class=\"dataframe\">\n",
       "  <thead>\n",
       "    <tr style=\"text-align: right;\">\n",
       "      <th></th>\n",
       "      <th>Row ID</th>\n",
       "      <th>Order ID</th>\n",
       "      <th>Order Date</th>\n",
       "      <th>Ship Date</th>\n",
       "      <th>Ship Mode</th>\n",
       "      <th>Customer ID</th>\n",
       "      <th>Customer Name</th>\n",
       "      <th>Segment</th>\n",
       "      <th>Country</th>\n",
       "      <th>City</th>\n",
       "      <th>...</th>\n",
       "      <th>Postal Code</th>\n",
       "      <th>Region</th>\n",
       "      <th>Product ID</th>\n",
       "      <th>Category</th>\n",
       "      <th>Sub-Category</th>\n",
       "      <th>Product Name</th>\n",
       "      <th>Sales</th>\n",
       "      <th>Quantity</th>\n",
       "      <th>Discount</th>\n",
       "      <th>Profit</th>\n",
       "    </tr>\n",
       "  </thead>\n",
       "  <tbody>\n",
       "    <tr>\n",
       "      <th>0</th>\n",
       "      <td>1</td>\n",
       "      <td>CA-2016-152156</td>\n",
       "      <td>2016-11-08</td>\n",
       "      <td>2016-11-11</td>\n",
       "      <td>Second Class</td>\n",
       "      <td>CG-12520</td>\n",
       "      <td>Claire Gute</td>\n",
       "      <td>Consumer</td>\n",
       "      <td>United States</td>\n",
       "      <td>Henderson</td>\n",
       "      <td>...</td>\n",
       "      <td>42420</td>\n",
       "      <td>South</td>\n",
       "      <td>FUR-BO-10001798</td>\n",
       "      <td>Furniture</td>\n",
       "      <td>Bookcases</td>\n",
       "      <td>Bush Somerset Collection Bookcase</td>\n",
       "      <td>261.9600</td>\n",
       "      <td>2</td>\n",
       "      <td>0.00</td>\n",
       "      <td>41.9136</td>\n",
       "    </tr>\n",
       "    <tr>\n",
       "      <th>1</th>\n",
       "      <td>2</td>\n",
       "      <td>CA-2016-152156</td>\n",
       "      <td>2016-11-08</td>\n",
       "      <td>2016-11-11</td>\n",
       "      <td>Second Class</td>\n",
       "      <td>CG-12520</td>\n",
       "      <td>Claire Gute</td>\n",
       "      <td>Consumer</td>\n",
       "      <td>United States</td>\n",
       "      <td>Henderson</td>\n",
       "      <td>...</td>\n",
       "      <td>42420</td>\n",
       "      <td>South</td>\n",
       "      <td>FUR-CH-10000454</td>\n",
       "      <td>Furniture</td>\n",
       "      <td>Chairs</td>\n",
       "      <td>Hon Deluxe Fabric Upholstered Stacking Chairs,...</td>\n",
       "      <td>731.9400</td>\n",
       "      <td>3</td>\n",
       "      <td>0.00</td>\n",
       "      <td>219.5820</td>\n",
       "    </tr>\n",
       "    <tr>\n",
       "      <th>2</th>\n",
       "      <td>3</td>\n",
       "      <td>CA-2016-138688</td>\n",
       "      <td>2016-06-12</td>\n",
       "      <td>2016-06-16</td>\n",
       "      <td>Second Class</td>\n",
       "      <td>DV-13045</td>\n",
       "      <td>Darrin Van Huff</td>\n",
       "      <td>Corporate</td>\n",
       "      <td>United States</td>\n",
       "      <td>Los Angeles</td>\n",
       "      <td>...</td>\n",
       "      <td>90036</td>\n",
       "      <td>West</td>\n",
       "      <td>OFF-LA-10000240</td>\n",
       "      <td>Office Supplies</td>\n",
       "      <td>Labels</td>\n",
       "      <td>Self-Adhesive Address Labels for Typewriters b...</td>\n",
       "      <td>14.6200</td>\n",
       "      <td>2</td>\n",
       "      <td>0.00</td>\n",
       "      <td>6.8714</td>\n",
       "    </tr>\n",
       "    <tr>\n",
       "      <th>3</th>\n",
       "      <td>4</td>\n",
       "      <td>US-2015-108966</td>\n",
       "      <td>2015-10-11</td>\n",
       "      <td>2015-10-18</td>\n",
       "      <td>Standard Class</td>\n",
       "      <td>SO-20335</td>\n",
       "      <td>Sean O'Donnell</td>\n",
       "      <td>Consumer</td>\n",
       "      <td>United States</td>\n",
       "      <td>Fort Lauderdale</td>\n",
       "      <td>...</td>\n",
       "      <td>33311</td>\n",
       "      <td>South</td>\n",
       "      <td>FUR-TA-10000577</td>\n",
       "      <td>Furniture</td>\n",
       "      <td>Tables</td>\n",
       "      <td>Bretford CR4500 Series Slim Rectangular Table</td>\n",
       "      <td>957.5775</td>\n",
       "      <td>5</td>\n",
       "      <td>0.45</td>\n",
       "      <td>-383.0310</td>\n",
       "    </tr>\n",
       "    <tr>\n",
       "      <th>4</th>\n",
       "      <td>5</td>\n",
       "      <td>US-2015-108966</td>\n",
       "      <td>2015-10-11</td>\n",
       "      <td>2015-10-18</td>\n",
       "      <td>Standard Class</td>\n",
       "      <td>SO-20335</td>\n",
       "      <td>Sean O'Donnell</td>\n",
       "      <td>Consumer</td>\n",
       "      <td>United States</td>\n",
       "      <td>Fort Lauderdale</td>\n",
       "      <td>...</td>\n",
       "      <td>33311</td>\n",
       "      <td>South</td>\n",
       "      <td>OFF-ST-10000760</td>\n",
       "      <td>Office Supplies</td>\n",
       "      <td>Storage</td>\n",
       "      <td>Eldon Fold 'N Roll Cart System</td>\n",
       "      <td>22.3680</td>\n",
       "      <td>2</td>\n",
       "      <td>0.20</td>\n",
       "      <td>2.5164</td>\n",
       "    </tr>\n",
       "    <tr>\n",
       "      <th>...</th>\n",
       "      <td>...</td>\n",
       "      <td>...</td>\n",
       "      <td>...</td>\n",
       "      <td>...</td>\n",
       "      <td>...</td>\n",
       "      <td>...</td>\n",
       "      <td>...</td>\n",
       "      <td>...</td>\n",
       "      <td>...</td>\n",
       "      <td>...</td>\n",
       "      <td>...</td>\n",
       "      <td>...</td>\n",
       "      <td>...</td>\n",
       "      <td>...</td>\n",
       "      <td>...</td>\n",
       "      <td>...</td>\n",
       "      <td>...</td>\n",
       "      <td>...</td>\n",
       "      <td>...</td>\n",
       "      <td>...</td>\n",
       "      <td>...</td>\n",
       "    </tr>\n",
       "    <tr>\n",
       "      <th>9989</th>\n",
       "      <td>9990</td>\n",
       "      <td>CA-2014-110422</td>\n",
       "      <td>2014-01-21</td>\n",
       "      <td>2014-01-23</td>\n",
       "      <td>Second Class</td>\n",
       "      <td>TB-21400</td>\n",
       "      <td>Tom Boeckenhauer</td>\n",
       "      <td>Consumer</td>\n",
       "      <td>United States</td>\n",
       "      <td>Miami</td>\n",
       "      <td>...</td>\n",
       "      <td>33180</td>\n",
       "      <td>South</td>\n",
       "      <td>FUR-FU-10001889</td>\n",
       "      <td>Furniture</td>\n",
       "      <td>Furnishings</td>\n",
       "      <td>Ultra Door Pull Handle</td>\n",
       "      <td>25.2480</td>\n",
       "      <td>3</td>\n",
       "      <td>0.20</td>\n",
       "      <td>4.1028</td>\n",
       "    </tr>\n",
       "    <tr>\n",
       "      <th>9990</th>\n",
       "      <td>9991</td>\n",
       "      <td>CA-2017-121258</td>\n",
       "      <td>2017-02-26</td>\n",
       "      <td>2017-03-03</td>\n",
       "      <td>Standard Class</td>\n",
       "      <td>DB-13060</td>\n",
       "      <td>Dave Brooks</td>\n",
       "      <td>Consumer</td>\n",
       "      <td>United States</td>\n",
       "      <td>Costa Mesa</td>\n",
       "      <td>...</td>\n",
       "      <td>92627</td>\n",
       "      <td>West</td>\n",
       "      <td>FUR-FU-10000747</td>\n",
       "      <td>Furniture</td>\n",
       "      <td>Furnishings</td>\n",
       "      <td>Tenex B1-RE Series Chair Mats for Low Pile Car...</td>\n",
       "      <td>91.9600</td>\n",
       "      <td>2</td>\n",
       "      <td>0.00</td>\n",
       "      <td>15.6332</td>\n",
       "    </tr>\n",
       "    <tr>\n",
       "      <th>9991</th>\n",
       "      <td>9992</td>\n",
       "      <td>CA-2017-121258</td>\n",
       "      <td>2017-02-26</td>\n",
       "      <td>2017-03-03</td>\n",
       "      <td>Standard Class</td>\n",
       "      <td>DB-13060</td>\n",
       "      <td>Dave Brooks</td>\n",
       "      <td>Consumer</td>\n",
       "      <td>United States</td>\n",
       "      <td>Costa Mesa</td>\n",
       "      <td>...</td>\n",
       "      <td>92627</td>\n",
       "      <td>West</td>\n",
       "      <td>TEC-PH-10003645</td>\n",
       "      <td>Technology</td>\n",
       "      <td>Phones</td>\n",
       "      <td>Aastra 57i VoIP phone</td>\n",
       "      <td>258.5760</td>\n",
       "      <td>2</td>\n",
       "      <td>0.20</td>\n",
       "      <td>19.3932</td>\n",
       "    </tr>\n",
       "    <tr>\n",
       "      <th>9992</th>\n",
       "      <td>9993</td>\n",
       "      <td>CA-2017-121258</td>\n",
       "      <td>2017-02-26</td>\n",
       "      <td>2017-03-03</td>\n",
       "      <td>Standard Class</td>\n",
       "      <td>DB-13060</td>\n",
       "      <td>Dave Brooks</td>\n",
       "      <td>Consumer</td>\n",
       "      <td>United States</td>\n",
       "      <td>Costa Mesa</td>\n",
       "      <td>...</td>\n",
       "      <td>92627</td>\n",
       "      <td>West</td>\n",
       "      <td>OFF-PA-10004041</td>\n",
       "      <td>Office Supplies</td>\n",
       "      <td>Paper</td>\n",
       "      <td>It's Hot Message Books with Stickers, 2 3/4\" x 5\"</td>\n",
       "      <td>29.6000</td>\n",
       "      <td>4</td>\n",
       "      <td>0.00</td>\n",
       "      <td>13.3200</td>\n",
       "    </tr>\n",
       "    <tr>\n",
       "      <th>9993</th>\n",
       "      <td>9994</td>\n",
       "      <td>CA-2017-119914</td>\n",
       "      <td>2017-05-04</td>\n",
       "      <td>2017-05-09</td>\n",
       "      <td>Second Class</td>\n",
       "      <td>CC-12220</td>\n",
       "      <td>Chris Cortes</td>\n",
       "      <td>Consumer</td>\n",
       "      <td>United States</td>\n",
       "      <td>Westminster</td>\n",
       "      <td>...</td>\n",
       "      <td>92683</td>\n",
       "      <td>West</td>\n",
       "      <td>OFF-AP-10002684</td>\n",
       "      <td>Office Supplies</td>\n",
       "      <td>Appliances</td>\n",
       "      <td>Acco 7-Outlet Masterpiece Power Center, Wihtou...</td>\n",
       "      <td>243.1600</td>\n",
       "      <td>2</td>\n",
       "      <td>0.00</td>\n",
       "      <td>72.9480</td>\n",
       "    </tr>\n",
       "  </tbody>\n",
       "</table>\n",
       "<p>9994 rows × 21 columns</p>\n",
       "</div>"
      ],
      "text/plain": [
       "      Row ID        Order ID Order Date  Ship Date       Ship Mode  \\\n",
       "0          1  CA-2016-152156 2016-11-08 2016-11-11    Second Class   \n",
       "1          2  CA-2016-152156 2016-11-08 2016-11-11    Second Class   \n",
       "2          3  CA-2016-138688 2016-06-12 2016-06-16    Second Class   \n",
       "3          4  US-2015-108966 2015-10-11 2015-10-18  Standard Class   \n",
       "4          5  US-2015-108966 2015-10-11 2015-10-18  Standard Class   \n",
       "...      ...             ...        ...        ...             ...   \n",
       "9989    9990  CA-2014-110422 2014-01-21 2014-01-23    Second Class   \n",
       "9990    9991  CA-2017-121258 2017-02-26 2017-03-03  Standard Class   \n",
       "9991    9992  CA-2017-121258 2017-02-26 2017-03-03  Standard Class   \n",
       "9992    9993  CA-2017-121258 2017-02-26 2017-03-03  Standard Class   \n",
       "9993    9994  CA-2017-119914 2017-05-04 2017-05-09    Second Class   \n",
       "\n",
       "     Customer ID     Customer Name    Segment        Country             City  \\\n",
       "0       CG-12520       Claire Gute   Consumer  United States        Henderson   \n",
       "1       CG-12520       Claire Gute   Consumer  United States        Henderson   \n",
       "2       DV-13045   Darrin Van Huff  Corporate  United States      Los Angeles   \n",
       "3       SO-20335    Sean O'Donnell   Consumer  United States  Fort Lauderdale   \n",
       "4       SO-20335    Sean O'Donnell   Consumer  United States  Fort Lauderdale   \n",
       "...          ...               ...        ...            ...              ...   \n",
       "9989    TB-21400  Tom Boeckenhauer   Consumer  United States            Miami   \n",
       "9990    DB-13060       Dave Brooks   Consumer  United States       Costa Mesa   \n",
       "9991    DB-13060       Dave Brooks   Consumer  United States       Costa Mesa   \n",
       "9992    DB-13060       Dave Brooks   Consumer  United States       Costa Mesa   \n",
       "9993    CC-12220      Chris Cortes   Consumer  United States      Westminster   \n",
       "\n",
       "      ... Postal Code  Region       Product ID         Category Sub-Category  \\\n",
       "0     ...       42420   South  FUR-BO-10001798        Furniture    Bookcases   \n",
       "1     ...       42420   South  FUR-CH-10000454        Furniture       Chairs   \n",
       "2     ...       90036    West  OFF-LA-10000240  Office Supplies       Labels   \n",
       "3     ...       33311   South  FUR-TA-10000577        Furniture       Tables   \n",
       "4     ...       33311   South  OFF-ST-10000760  Office Supplies      Storage   \n",
       "...   ...         ...     ...              ...              ...          ...   \n",
       "9989  ...       33180   South  FUR-FU-10001889        Furniture  Furnishings   \n",
       "9990  ...       92627    West  FUR-FU-10000747        Furniture  Furnishings   \n",
       "9991  ...       92627    West  TEC-PH-10003645       Technology       Phones   \n",
       "9992  ...       92627    West  OFF-PA-10004041  Office Supplies        Paper   \n",
       "9993  ...       92683    West  OFF-AP-10002684  Office Supplies   Appliances   \n",
       "\n",
       "                                           Product Name     Sales  Quantity  \\\n",
       "0                     Bush Somerset Collection Bookcase  261.9600         2   \n",
       "1     Hon Deluxe Fabric Upholstered Stacking Chairs,...  731.9400         3   \n",
       "2     Self-Adhesive Address Labels for Typewriters b...   14.6200         2   \n",
       "3         Bretford CR4500 Series Slim Rectangular Table  957.5775         5   \n",
       "4                        Eldon Fold 'N Roll Cart System   22.3680         2   \n",
       "...                                                 ...       ...       ...   \n",
       "9989                             Ultra Door Pull Handle   25.2480         3   \n",
       "9990  Tenex B1-RE Series Chair Mats for Low Pile Car...   91.9600         2   \n",
       "9991                              Aastra 57i VoIP phone  258.5760         2   \n",
       "9992  It's Hot Message Books with Stickers, 2 3/4\" x 5\"   29.6000         4   \n",
       "9993  Acco 7-Outlet Masterpiece Power Center, Wihtou...  243.1600         2   \n",
       "\n",
       "      Discount    Profit  \n",
       "0         0.00   41.9136  \n",
       "1         0.00  219.5820  \n",
       "2         0.00    6.8714  \n",
       "3         0.45 -383.0310  \n",
       "4         0.20    2.5164  \n",
       "...        ...       ...  \n",
       "9989      0.20    4.1028  \n",
       "9990      0.00   15.6332  \n",
       "9991      0.20   19.3932  \n",
       "9992      0.00   13.3200  \n",
       "9993      0.00   72.9480  \n",
       "\n",
       "[9994 rows x 21 columns]"
      ]
     },
     "execution_count": 3,
     "metadata": {},
     "output_type": "execute_result"
    }
   ],
   "source": [
    "df"
   ]
  },
  {
   "cell_type": "code",
   "execution_count": 4,
   "id": "c3ef2795",
   "metadata": {},
   "outputs": [],
   "source": [
    "gt = df[['Category', 'Sales']].groupby('Category').sum()"
   ]
  },
  {
   "cell_type": "code",
   "execution_count": 5,
   "id": "0c2d68b4",
   "metadata": {},
   "outputs": [
    {
     "data": {
      "text/plain": [
       "([<matplotlib.patches.Wedge at 0x18f81bc2510>,\n",
       "  <matplotlib.patches.Wedge at 0x18f81bd7c90>,\n",
       "  <matplotlib.patches.Wedge at 0x18f816b1450>],\n",
       " [Text(0.5806251240511282, 0.9342775098013503, 'Furniture'),\n",
       "  Text(-1.0908936275896106, 0.14124833904998657, 'Office Supplies'),\n",
       "  Text(0.4558499046992793, -1.0010998273826932, 'Technology')],\n",
       " [Text(0.31670461311879716, 0.5096059144371001, '32.30%'),\n",
       "  Text(-0.5950328877761512, 0.07704454857271993, '31.30%'),\n",
       "  Text(0.24864540256324322, -0.5460544512996508, '36.40%')])"
      ]
     },
     "execution_count": 5,
     "metadata": {},
     "output_type": "execute_result"
    },
    {
     "data": {
      "image/png": "[encoded data removed]",
      "text/plain": [
       "<Figure size 200x200 with 1 Axes>"
      ]
     },
     "metadata": {},
     "output_type": "display_data"
    }
   ],
   "source": [
    "custom_colors = [\"#1C8D7A\", \"#174777\", \"#59ED59\", \"#1E1636\"]\n",
    "plt.figure(figsize=(2,2))\n",
    "plt.pie(x=gt['Sales'], labels=gt.index, autopct='%.2f%%',colors=custom_colors)"
   ]
  },
  {
   "cell_type": "code",
   "execution_count": 6,
   "id": "53072139",
   "metadata": {},
   "outputs": [],
   "source": [
    "gt = df[['Region','Sales']].groupby('Region').sum()"
   ]
  },
  {
   "cell_type": "code",
   "execution_count": 7,
   "id": "941d5e4d",
   "metadata": {},
   "outputs": [
    {
     "data": {
      "text/plain": [
       "<BarContainer object of 4 artists>"
      ]
     },
     "execution_count": 7,
     "metadata": {},
     "output_type": "execute_result"
    },
    {
     "data": {
      "image/png": "[encoded data removed]",
      "text/plain": [
       "<Figure size 640x480 with 1 Axes>"
      ]
     },
     "metadata": {},
     "output_type": "display_data"
    }
   ],
   "source": [
    "plt.bar(x=gt.index, height=gt['Sales'],color = ['red','blue','green','yellow'])"
   ]
  },
  {
   "cell_type": "code",
   "execution_count": 8,
   "id": "d7385c35",
   "metadata": {},
   "outputs": [
    {
     "data": {
      "text/plain": [
       "<Axes: xlabel='Region', ylabel='Sales'>"
      ]
     },
     "execution_count": 8,
     "metadata": {},
     "output_type": "execute_result"
    },
    {
     "data": {
      "image/png": "[encoded data removed]",
      "text/plain": [
       "<Figure size 640x480 with 1 Axes>"
      ]
     },
     "metadata": {},
     "output_type": "display_data"
    }
   ],
   "source": [
    "sns.barplot(x=df['Region'],y=df['Sales'],estimator='sum')"
   ]
  },
  {
   "cell_type": "code",
   "execution_count": 9,
   "id": "ad9ee9a3",
   "metadata": {},
   "outputs": [
    {
     "data": {
      "image/png": "[encoded data removed]",
      "text/plain": [
       "<Figure size 640x480 with 1 Axes>"
      ]
     },
     "metadata": {},
     "output_type": "display_data"
    }
   ],
   "source": [
    "sns.barplot(y=df['Sub-Category'],x=df['Sales'],estimator='sum')\n",
    "plt.show()"
   ]
  },
  {
   "cell_type": "code",
   "execution_count": 10,
   "id": "ef6ec79d",
   "metadata": {},
   "outputs": [
    {
     "data": {
      "text/plain": [
       "Index(['Row ID', 'Order ID', 'Order Date', 'Ship Date', 'Ship Mode',\n",
       "       'Customer ID', 'Customer Name', 'Segment', 'Country', 'City', 'State',\n",
       "       'Postal Code', 'Region', 'Product ID', 'Category', 'Sub-Category',\n",
       "       'Product Name', 'Sales', 'Quantity', 'Discount', 'Profit'],\n",
       "      dtype='object')"
      ]
     },
     "execution_count": 10,
     "metadata": {},
     "output_type": "execute_result"
    }
   ],
   "source": [
    "df.keys()"
   ]
  },
  {
   "cell_type": "code",
   "execution_count": 11,
   "id": "138ec094",
   "metadata": {},
   "outputs": [],
   "source": [
    "#pie chart (2 -9 unique values)\n",
    "#bar plot (2-18 or 19 unique values)\n",
    "# more than 20 unique values like 100\n",
    "#use bubble chart or tree map present in power bi or tableau."
   ]
  },
  {
   "cell_type": "code",
   "execution_count": 12,
   "id": "5474a389",
   "metadata": {},
   "outputs": [
    {
     "data": {
      "text/plain": [
       "<Axes: xlabel='Region', ylabel='Sales'>"
      ]
     },
     "execution_count": 12,
     "metadata": {},
     "output_type": "execute_result"
    },
    {
     "data": {
      "image/png": "[encoded data removed]",
      "text/plain": [
       "<Figure size 640x480 with 1 Axes>"
      ]
     },
     "metadata": {},
     "output_type": "display_data"
    }
   ],
   "source": [
    "sns.barplot(x =df['Region'],y = df['Sales'],estimator='sum')"
   ]
  },
  {
   "cell_type": "code",
   "execution_count": 13,
   "id": "bc859003",
   "metadata": {},
   "outputs": [
    {
     "data": {
      "text/plain": [
       "Index(['Row ID', 'Order ID', 'Order Date', 'Ship Date', 'Ship Mode',\n",
       "       'Customer ID', 'Customer Name', 'Segment', 'Country', 'City', 'State',\n",
       "       'Postal Code', 'Region', 'Product ID', 'Category', 'Sub-Category',\n",
       "       'Product Name', 'Sales', 'Quantity', 'Discount', 'Profit'],\n",
       "      dtype='object')"
      ]
     },
     "execution_count": 13,
     "metadata": {},
     "output_type": "execute_result"
    }
   ],
   "source": [
    "df.keys()"
   ]
  },
  {
   "cell_type": "code",
   "execution_count": 14,
   "id": "f4fd876c",
   "metadata": {},
   "outputs": [
    {
     "data": {
      "text/plain": [
       "array(['Consumer', 'Corporate', 'Home Office'], dtype=object)"
      ]
     },
     "execution_count": 14,
     "metadata": {},
     "output_type": "execute_result"
    }
   ],
   "source": [
    "df['Segment'].unique()"
   ]
  },
  {
   "cell_type": "code",
   "execution_count": 15,
   "id": "dce8ffe4",
   "metadata": {},
   "outputs": [
    {
     "data": {
      "application/vnd.microsoft.datawrangler.viewer.v0+json": {
       "columns": [
        {
         "name": "Region",
         "rawType": "object",
         "type": "string"
        },
        {
         "name": "Sales",
         "rawType": "float64",
         "type": "float"
        }
       ],
       "ref": "04319b36-1ba8-4f39-8b5d-09efd4dd0f85",
       "rows": [
        [
         "Central",
         "501239.8908"
        ],
        [
         "East",
         "678781.24"
        ],
        [
         "South",
         "391721.905"
        ],
        [
         "West",
         "725457.8245"
        ]
       ],
       "shape": {
        "columns": 1,
        "rows": 4
       }
      },
      "text/html": [
       "<div>\n",
       "<style scoped>\n",
       "    .dataframe tbody tr th:only-of-type {\n",
       "        vertical-align: middle;\n",
       "    }\n",
       "\n",
       "    .dataframe tbody tr th {\n",
       "        vertical-align: top;\n",
       "    }\n",
       "\n",
       "    .dataframe thead th {\n",
       "        text-align: right;\n",
       "    }\n",
       "</style>\n",
       "<table border=\"1\" class=\"dataframe\">\n",
       "  <thead>\n",
       "    <tr style=\"text-align: right;\">\n",
       "      <th></th>\n",
       "      <th>Sales</th>\n",
       "    </tr>\n",
       "    <tr>\n",
       "      <th>Region</th>\n",
       "      <th></th>\n",
       "    </tr>\n",
       "  </thead>\n",
       "  <tbody>\n",
       "    <tr>\n",
       "      <th>Central</th>\n",
       "      <td>501239.8908</td>\n",
       "    </tr>\n",
       "    <tr>\n",
       "      <th>East</th>\n",
       "      <td>678781.2400</td>\n",
       "    </tr>\n",
       "    <tr>\n",
       "      <th>South</th>\n",
       "      <td>391721.9050</td>\n",
       "    </tr>\n",
       "    <tr>\n",
       "      <th>West</th>\n",
       "      <td>725457.8245</td>\n",
       "    </tr>\n",
       "  </tbody>\n",
       "</table>\n",
       "</div>"
      ],
      "text/plain": [
       "               Sales\n",
       "Region              \n",
       "Central  501239.8908\n",
       "East     678781.2400\n",
       "South    391721.9050\n",
       "West     725457.8245"
      ]
     },
     "execution_count": 15,
     "metadata": {},
     "output_type": "execute_result"
    }
   ],
   "source": [
    "df[['Region','Sales']].groupby('Region').sum()"
   ]
  },
  {
   "cell_type": "code",
   "execution_count": 16,
   "id": "692f60f4",
   "metadata": {},
   "outputs": [
    {
     "data": {
      "application/vnd.microsoft.datawrangler.viewer.v0+json": {
       "columns": [
        {
         "name": "index",
         "rawType": "int64",
         "type": "integer"
        },
        {
         "name": "Profit",
         "rawType": "float64",
         "type": "float"
        }
       ],
       "ref": "986b6b84-8060-4c21-8af5-e5b5b4d8fe35",
       "rows": [
        [
         "0",
         "41.9136"
        ],
        [
         "1",
         "219.58199999999997"
        ],
        [
         "2",
         "6.8713999999999995"
        ],
        [
         "3",
         "-383.03100000000006"
        ],
        [
         "4",
         "2.516399999999999"
        ],
        [
         "5",
         "14.169399999999996"
        ],
        [
         "6",
         "1.9656000000000002"
        ],
        [
         "7",
         "90.71520000000004"
        ],
        [
         "8",
         "5.7825"
        ],
        [
         "9",
         "34.46999999999999"
        ],
        [
         "10",
         "85.3091999999998"
        ],
        [
         "11",
         "68.35680000000002"
        ],
        [
         "12",
         "5.4432"
        ],
        [
         "13",
         "132.59219999999993"
        ],
        [
         "14",
         "-123.858"
        ],
        [
         "15",
         "-3.8160000000000016"
        ],
        [
         "16",
         "13.317599999999999"
        ],
        [
         "17",
         "9.989999999999995"
        ],
        [
         "18",
         "2.4823999999999993"
        ],
        [
         "19",
         "16.01099999999998"
        ],
        [
         "20",
         "7.383999999999999"
        ],
        [
         "21",
         "5.0596"
        ],
        [
         "22",
         "15.688400000000001"
        ],
        [
         "23",
         "-1.0196000000000005"
        ],
        [
         "24",
         "240.2649"
        ],
        [
         "25",
         "4.2224"
        ],
        [
         "26",
         "11.774100000000004"
        ],
        [
         "27",
         "-1665.0522"
        ],
        [
         "28",
         "-7.0532"
        ],
        [
         "29",
         "15.524999999999991"
        ],
        [
         "30",
         "1.1015999999999997"
        ],
        [
         "31",
         "9.709199999999989"
        ],
        [
         "32",
         "-5.715"
        ],
        [
         "33",
         "3.5460000000000007"
        ],
        [
         "34",
         "9.946799999999998"
        ],
        [
         "35",
         "123.4736999999999"
        ],
        [
         "36",
         "-147.96300000000002"
        ],
        [
         "37",
         "35.415"
        ],
        [
         "38",
         "-46.97640000000001"
        ],
        [
         "39",
         "-15.146999999999991"
        ],
        [
         "40",
         "41.75639999999996"
        ],
        [
         "41",
         "16.556399999999996"
        ],
        [
         "42",
         "3.8939999999999912"
        ],
        [
         "43",
         "9.56160000000001"
        ],
        [
         "44",
         "19.7714"
        ],
        [
         "45",
         "8.206199999999999"
        ],
        [
         "46",
         "8.478399999999993"
        ],
        [
         "47",
         "4.950000000000001"
        ],
        [
         "48",
         "6.104000000000001"
        ],
        [
         "49",
         "17.9634"
        ]
       ],
       "shape": {
        "columns": 1,
        "rows": 9994
       }
      },
      "text/plain": [
       "0        41.9136\n",
       "1       219.5820\n",
       "2         6.8714\n",
       "3      -383.0310\n",
       "4         2.5164\n",
       "          ...   \n",
       "9989      4.1028\n",
       "9990     15.6332\n",
       "9991     19.3932\n",
       "9992     13.3200\n",
       "9993     72.9480\n",
       "Name: Profit, Length: 9994, dtype: float64"
      ]
     },
     "execution_count": 16,
     "metadata": {},
     "output_type": "execute_result"
    }
   ],
   "source": [
    "df['Profit']"
   ]
  },
  {
   "cell_type": "code",
   "execution_count": 17,
   "id": "fc1cc285",
   "metadata": {},
   "outputs": [],
   "source": [
    "# Wanted to do loss analysis.\n",
    "#sub-catogo"
   ]
  },
  {
   "cell_type": "code",
   "execution_count": 18,
   "id": "27698684",
   "metadata": {},
   "outputs": [
    {
     "data": {
      "image/png": "[encoded data removed]",
      "text/plain": [
       "<Figure size 640x480 with 1 Axes>"
      ]
     },
     "metadata": {},
     "output_type": "display_data"
    }
   ],
   "source": [
    "# Calculate mean profit by Sub-Category\n",
    "gt = df[['Sub-Category', 'Profit']].groupby('Sub-Category').sum()\n",
    "\n",
    "# Create color list based on total profit\n",
    "cus_colors = ['red' if x < 0 else 'green' for x in gt['Profit']]\n",
    "\n",
    "# Plot using seaborn\n",
    "sns.barplot(y=gt.index, x=gt['Profit'], palette=cus_colors)\n",
    "plt.show()"
   ]
  },
  {
   "cell_type": "code",
   "execution_count": 19,
   "id": "2439cd15",
   "metadata": {},
   "outputs": [
    {
     "data": {
      "text/plain": [
       "<Axes: xlabel='Profit', ylabel='Sub-Category'>"
      ]
     },
     "execution_count": 19,
     "metadata": {},
     "output_type": "execute_result"
    },
    {
     "data": {
      "image/png": "[encoded data removed]",
      "text/plain": [
       "<Figure size 640x480 with 1 Axes>"
      ]
     },
     "metadata": {},
     "output_type": "display_data"
    }
   ],
   "source": [
    "sns.barplot(y=df['Sub-Category'], x=df['Profit'], estimator='mean')"
   ]
  },
  {
   "cell_type": "code",
   "execution_count": 20,
   "id": "86e6a189",
   "metadata": {},
   "outputs": [
    {
     "name": "stderr",
     "output_type": "stream",
     "text": [
      "C:\\Users\\Abhiram\\AppData\\Local\\Temp\\ipykernel_9988\\3647778508.py:5: FutureWarning: \n",
      "\n",
      "The `ci` parameter is deprecated. Use `errorbar=None` for the same effect.\n",
      "\n",
      "  sns.barplot(y=gt.index, x=gt['Discount'], ci=None)\n"
     ]
    },
    {
     "data": {
      "image/png": "[encoded data removed]",
      "text/plain": [
       "<Figure size 640x480 with 1 Axes>"
      ]
     },
     "metadata": {},
     "output_type": "display_data"
    }
   ],
   "source": [
    "# Calculate mean discount by Sub-Category and sort\n",
    "gt = df[['Sub-Category', 'Discount']].groupby('Sub-Category').mean().sort_values(by='Discount', ascending=False)\n",
    "\n",
    "# Plot using seaborn\n",
    "sns.barplot(y=gt.index, x=gt['Discount'], ci=None)\n",
    "plt.show()"
   ]
  },
  {
   "cell_type": "code",
   "execution_count": 21,
   "id": "5d870b17",
   "metadata": {},
   "outputs": [
    {
     "data": {
      "text/plain": [
       "Index(['Row ID', 'Order ID', 'Order Date', 'Ship Date', 'Ship Mode',\n",
       "       'Customer ID', 'Customer Name', 'Segment', 'Country', 'City', 'State',\n",
       "       'Postal Code', 'Region', 'Product ID', 'Category', 'Sub-Category',\n",
       "       'Product Name', 'Sales', 'Quantity', 'Discount', 'Profit'],\n",
       "      dtype='object')"
      ]
     },
     "execution_count": 21,
     "metadata": {},
     "output_type": "execute_result"
    }
   ],
   "source": [
    "df.keys()"
   ]
  },
  {
   "cell_type": "code",
   "execution_count": 22,
   "id": "abeb29fb",
   "metadata": {},
   "outputs": [
    {
     "data": {
      "text/plain": [
       "0.15620272163297977"
      ]
     },
     "execution_count": 22,
     "metadata": {},
     "output_type": "execute_result"
    }
   ],
   "source": [
    "df['Discount'].mean()"
   ]
  },
  {
   "cell_type": "code",
   "execution_count": 23,
   "id": "bd61a698",
   "metadata": {},
   "outputs": [],
   "source": [
    "import pandas as pd\n",
    "d = pd.pivot_table(df, index='Sub-Category', values=['Sales','Profit'], aggfunc='sum')\n"
   ]
  },
  {
   "cell_type": "code",
   "execution_count": 24,
   "id": "8b85818a",
   "metadata": {},
   "outputs": [
    {
     "data": {
      "application/vnd.microsoft.datawrangler.viewer.v0+json": {
       "columns": [
        {
         "name": "Sub-Category",
         "rawType": "object",
         "type": "string"
        },
        {
         "name": "Profit",
         "rawType": "float64",
         "type": "float"
        },
        {
         "name": "Sales",
         "rawType": "float64",
         "type": "float"
        }
       ],
       "ref": "fe766a06-d75e-41f2-9ac5-e0a15b490469",
       "rows": [
        [
         "Accessories",
         "41936.6357",
         "167380.318"
        ],
        [
         "Appliances",
         "18138.005399999995",
         "107532.161"
        ],
        [
         "Art",
         "6527.786999999999",
         "27118.792"
        ],
        [
         "Binders",
         "30221.76329999999",
         "203412.733"
        ],
        [
         "Bookcases",
         "-3472.556000000003",
         "114879.9963"
        ],
        [
         "Chairs",
         "26590.16629999999",
         "328449.103"
        ],
        [
         "Copiers",
         "55617.82489999999",
         "149528.03"
        ],
        [
         "Envelopes",
         "6964.176699999999",
         "16476.402000000002"
        ],
        [
         "Fasteners",
         "949.5182",
         "3024.28"
        ],
        [
         "Furnishings",
         "13059.143599999998",
         "91705.164"
        ],
        [
         "Labels",
         "5546.254",
         "12486.312"
        ],
        [
         "Machines",
         "3384.756899999988",
         "189238.631"
        ],
        [
         "Paper",
         "34053.569299999996",
         "78479.206"
        ],
        [
         "Phones",
         "44515.730599999995",
         "330007.054"
        ],
        [
         "Storage",
         "21278.826399999994",
         "223843.608"
        ],
        [
         "Supplies",
         "-1189.0995000000007",
         "46673.538"
        ],
        [
         "Tables",
         "-17725.481100000005",
         "206965.532"
        ]
       ],
       "shape": {
        "columns": 2,
        "rows": 17
       }
      },
      "text/html": [
       "<div>\n",
       "<style scoped>\n",
       "    .dataframe tbody tr th:only-of-type {\n",
       "        vertical-align: middle;\n",
       "    }\n",
       "\n",
       "    .dataframe tbody tr th {\n",
       "        vertical-align: top;\n",
       "    }\n",
       "\n",
       "    .dataframe thead th {\n",
       "        text-align: right;\n",
       "    }\n",
       "</style>\n",
       "<table border=\"1\" class=\"dataframe\">\n",
       "  <thead>\n",
       "    <tr style=\"text-align: right;\">\n",
       "      <th></th>\n",
       "      <th>Profit</th>\n",
       "      <th>Sales</th>\n",
       "    </tr>\n",
       "    <tr>\n",
       "      <th>Sub-Category</th>\n",
       "      <th></th>\n",
       "      <th></th>\n",
       "    </tr>\n",
       "  </thead>\n",
       "  <tbody>\n",
       "    <tr>\n",
       "      <th>Accessories</th>\n",
       "      <td>41936.6357</td>\n",
       "      <td>167380.3180</td>\n",
       "    </tr>\n",
       "    <tr>\n",
       "      <th>Appliances</th>\n",
       "      <td>18138.0054</td>\n",
       "      <td>107532.1610</td>\n",
       "    </tr>\n",
       "    <tr>\n",
       "      <th>Art</th>\n",
       "      <td>6527.7870</td>\n",
       "      <td>27118.7920</td>\n",
       "    </tr>\n",
       "    <tr>\n",
       "      <th>Binders</th>\n",
       "      <td>30221.7633</td>\n",
       "      <td>203412.7330</td>\n",
       "    </tr>\n",
       "    <tr>\n",
       "      <th>Bookcases</th>\n",
       "      <td>-3472.5560</td>\n",
       "      <td>114879.9963</td>\n",
       "    </tr>\n",
       "    <tr>\n",
       "      <th>Chairs</th>\n",
       "      <td>26590.1663</td>\n",
       "      <td>328449.1030</td>\n",
       "    </tr>\n",
       "    <tr>\n",
       "      <th>Copiers</th>\n",
       "      <td>55617.8249</td>\n",
       "      <td>149528.0300</td>\n",
       "    </tr>\n",
       "    <tr>\n",
       "      <th>Envelopes</th>\n",
       "      <td>6964.1767</td>\n",
       "      <td>16476.4020</td>\n",
       "    </tr>\n",
       "    <tr>\n",
       "      <th>Fasteners</th>\n",
       "      <td>949.5182</td>\n",
       "      <td>3024.2800</td>\n",
       "    </tr>\n",
       "    <tr>\n",
       "      <th>Furnishings</th>\n",
       "      <td>13059.1436</td>\n",
       "      <td>91705.1640</td>\n",
       "    </tr>\n",
       "    <tr>\n",
       "      <th>Labels</th>\n",
       "      <td>5546.2540</td>\n",
       "      <td>12486.3120</td>\n",
       "    </tr>\n",
       "    <tr>\n",
       "      <th>Machines</th>\n",
       "      <td>3384.7569</td>\n",
       "      <td>189238.6310</td>\n",
       "    </tr>\n",
       "    <tr>\n",
       "      <th>Paper</th>\n",
       "      <td>34053.5693</td>\n",
       "      <td>78479.2060</td>\n",
       "    </tr>\n",
       "    <tr>\n",
       "      <th>Phones</th>\n",
       "      <td>44515.7306</td>\n",
       "      <td>330007.0540</td>\n",
       "    </tr>\n",
       "    <tr>\n",
       "      <th>Storage</th>\n",
       "      <td>21278.8264</td>\n",
       "      <td>223843.6080</td>\n",
       "    </tr>\n",
       "    <tr>\n",
       "      <th>Supplies</th>\n",
       "      <td>-1189.0995</td>\n",
       "      <td>46673.5380</td>\n",
       "    </tr>\n",
       "    <tr>\n",
       "      <th>Tables</th>\n",
       "      <td>-17725.4811</td>\n",
       "      <td>206965.5320</td>\n",
       "    </tr>\n",
       "  </tbody>\n",
       "</table>\n",
       "</div>"
      ],
      "text/plain": [
       "                  Profit        Sales\n",
       "Sub-Category                         \n",
       "Accessories   41936.6357  167380.3180\n",
       "Appliances    18138.0054  107532.1610\n",
       "Art            6527.7870   27118.7920\n",
       "Binders       30221.7633  203412.7330\n",
       "Bookcases     -3472.5560  114879.9963\n",
       "Chairs        26590.1663  328449.1030\n",
       "Copiers       55617.8249  149528.0300\n",
       "Envelopes      6964.1767   16476.4020\n",
       "Fasteners       949.5182    3024.2800\n",
       "Furnishings   13059.1436   91705.1640\n",
       "Labels         5546.2540   12486.3120\n",
       "Machines       3384.7569  189238.6310\n",
       "Paper         34053.5693   78479.2060\n",
       "Phones        44515.7306  330007.0540\n",
       "Storage       21278.8264  223843.6080\n",
       "Supplies      -1189.0995   46673.5380\n",
       "Tables       -17725.4811  206965.5320"
      ]
     },
     "execution_count": 24,
     "metadata": {},
     "output_type": "execute_result"
    }
   ],
   "source": [
    "d"
   ]
  },
  {
   "cell_type": "code",
   "execution_count": 25,
   "id": "02702e87",
   "metadata": {},
   "outputs": [],
   "source": [
    "#revenue analysis\n",
    "d = pd.pivot_table(df, index='Sub-Category', values='Sales', aggfunc='sum')"
   ]
  },
  {
   "cell_type": "code",
   "execution_count": 26,
   "id": "184670fa",
   "metadata": {},
   "outputs": [
    {
     "data": {
      "application/vnd.microsoft.datawrangler.viewer.v0+json": {
       "columns": [
        {
         "name": "Sub-Category",
         "rawType": "object",
         "type": "string"
        },
        {
         "name": "Sales",
         "rawType": "float64",
         "type": "float"
        }
       ],
       "ref": "19809d81-0cd8-43b7-b129-523210fd0286",
       "rows": [
        [
         "Accessories",
         "167380.318"
        ],
        [
         "Appliances",
         "107532.161"
        ],
        [
         "Art",
         "27118.792"
        ],
        [
         "Binders",
         "203412.733"
        ],
        [
         "Bookcases",
         "114879.9963"
        ],
        [
         "Chairs",
         "328449.103"
        ],
        [
         "Copiers",
         "149528.03"
        ],
        [
         "Envelopes",
         "16476.402000000002"
        ],
        [
         "Fasteners",
         "3024.28"
        ],
        [
         "Furnishings",
         "91705.164"
        ],
        [
         "Labels",
         "12486.312"
        ],
        [
         "Machines",
         "189238.631"
        ],
        [
         "Paper",
         "78479.206"
        ],
        [
         "Phones",
         "330007.054"
        ],
        [
         "Storage",
         "223843.608"
        ],
        [
         "Supplies",
         "46673.538"
        ],
        [
         "Tables",
         "206965.532"
        ]
       ],
       "shape": {
        "columns": 1,
        "rows": 17
       }
      },
      "text/html": [
       "<div>\n",
       "<style scoped>\n",
       "    .dataframe tbody tr th:only-of-type {\n",
       "        vertical-align: middle;\n",
       "    }\n",
       "\n",
       "    .dataframe tbody tr th {\n",
       "        vertical-align: top;\n",
       "    }\n",
       "\n",
       "    .dataframe thead th {\n",
       "        text-align: right;\n",
       "    }\n",
       "</style>\n",
       "<table border=\"1\" class=\"dataframe\">\n",
       "  <thead>\n",
       "    <tr style=\"text-align: right;\">\n",
       "      <th></th>\n",
       "      <th>Sales</th>\n",
       "    </tr>\n",
       "    <tr>\n",
       "      <th>Sub-Category</th>\n",
       "      <th></th>\n",
       "    </tr>\n",
       "  </thead>\n",
       "  <tbody>\n",
       "    <tr>\n",
       "      <th>Accessories</th>\n",
       "      <td>167380.3180</td>\n",
       "    </tr>\n",
       "    <tr>\n",
       "      <th>Appliances</th>\n",
       "      <td>107532.1610</td>\n",
       "    </tr>\n",
       "    <tr>\n",
       "      <th>Art</th>\n",
       "      <td>27118.7920</td>\n",
       "    </tr>\n",
       "    <tr>\n",
       "      <th>Binders</th>\n",
       "      <td>203412.7330</td>\n",
       "    </tr>\n",
       "    <tr>\n",
       "      <th>Bookcases</th>\n",
       "      <td>114879.9963</td>\n",
       "    </tr>\n",
       "    <tr>\n",
       "      <th>Chairs</th>\n",
       "      <td>328449.1030</td>\n",
       "    </tr>\n",
       "    <tr>\n",
       "      <th>Copiers</th>\n",
       "      <td>149528.0300</td>\n",
       "    </tr>\n",
       "    <tr>\n",
       "      <th>Envelopes</th>\n",
       "      <td>16476.4020</td>\n",
       "    </tr>\n",
       "    <tr>\n",
       "      <th>Fasteners</th>\n",
       "      <td>3024.2800</td>\n",
       "    </tr>\n",
       "    <tr>\n",
       "      <th>Furnishings</th>\n",
       "      <td>91705.1640</td>\n",
       "    </tr>\n",
       "    <tr>\n",
       "      <th>Labels</th>\n",
       "      <td>12486.3120</td>\n",
       "    </tr>\n",
       "    <tr>\n",
       "      <th>Machines</th>\n",
       "      <td>189238.6310</td>\n",
       "    </tr>\n",
       "    <tr>\n",
       "      <th>Paper</th>\n",
       "      <td>78479.2060</td>\n",
       "    </tr>\n",
       "    <tr>\n",
       "      <th>Phones</th>\n",
       "      <td>330007.0540</td>\n",
       "    </tr>\n",
       "    <tr>\n",
       "      <th>Storage</th>\n",
       "      <td>223843.6080</td>\n",
       "    </tr>\n",
       "    <tr>\n",
       "      <th>Supplies</th>\n",
       "      <td>46673.5380</td>\n",
       "    </tr>\n",
       "    <tr>\n",
       "      <th>Tables</th>\n",
       "      <td>206965.5320</td>\n",
       "    </tr>\n",
       "  </tbody>\n",
       "</table>\n",
       "</div>"
      ],
      "text/plain": [
       "                    Sales\n",
       "Sub-Category             \n",
       "Accessories   167380.3180\n",
       "Appliances    107532.1610\n",
       "Art            27118.7920\n",
       "Binders       203412.7330\n",
       "Bookcases     114879.9963\n",
       "Chairs        328449.1030\n",
       "Copiers       149528.0300\n",
       "Envelopes      16476.4020\n",
       "Fasteners       3024.2800\n",
       "Furnishings    91705.1640\n",
       "Labels         12486.3120\n",
       "Machines      189238.6310\n",
       "Paper          78479.2060\n",
       "Phones        330007.0540\n",
       "Storage       223843.6080\n",
       "Supplies       46673.5380\n",
       "Tables        206965.5320"
      ]
     },
     "execution_count": 26,
     "metadata": {},
     "output_type": "execute_result"
    }
   ],
   "source": [
    "d"
   ]
  },
  {
   "cell_type": "code",
   "execution_count": 27,
   "id": "6bd48fcf",
   "metadata": {},
   "outputs": [
    {
     "name": "stderr",
     "output_type": "stream",
     "text": [
      "C:\\Users\\Abhiram\\AppData\\Local\\Temp\\ipykernel_9988\\1289693177.py:1: FutureWarning: \n",
      "\n",
      "The `ci` parameter is deprecated. Use `errorbar=None` for the same effect.\n",
      "\n",
      "  sns.barplot(y=d.index, x=d['Sales'], ci=None)\n"
     ]
    },
    {
     "data": {
      "text/plain": [
       "<Axes: xlabel='Sales', ylabel='Sub-Category'>"
      ]
     },
     "execution_count": 27,
     "metadata": {},
     "output_type": "execute_result"
    },
    {
     "data": {
      "image/png": "[encoded data removed]",
      "text/plain": [
       "<Figure size 640x480 with 1 Axes>"
      ]
     },
     "metadata": {},
     "output_type": "display_data"
    }
   ],
   "source": [
    "sns.barplot(y=d.index, x=d['Sales'], ci=None)"
   ]
  },
  {
   "cell_type": "code",
   "execution_count": 28,
   "id": "9564df80",
   "metadata": {},
   "outputs": [],
   "source": [
    "e = pd.pivot_table(df,index='Region',values='Sales',aggfunc='sum')"
   ]
  },
  {
   "cell_type": "code",
   "execution_count": 29,
   "id": "a4a2a3de",
   "metadata": {},
   "outputs": [
    {
     "name": "stderr",
     "output_type": "stream",
     "text": [
      "C:\\Users\\Abhiram\\AppData\\Local\\Temp\\ipykernel_9988\\1539539093.py:1: FutureWarning: \n",
      "\n",
      "The `ci` parameter is deprecated. Use `errorbar=None` for the same effect.\n",
      "\n",
      "  sns.barplot(y=e.index, x=e['Sales'], ci=None)\n"
     ]
    },
    {
     "data": {
      "text/plain": [
       "<Axes: xlabel='Sales', ylabel='Region'>"
      ]
     },
     "execution_count": 29,
     "metadata": {},
     "output_type": "execute_result"
    },
    {
     "data": {
      "image/png": "[encoded data removed]",
      "text/plain": [
       "<Figure size 640x480 with 1 Axes>"
      ]
     },
     "metadata": {},
     "output_type": "display_data"
    }
   ],
   "source": [
    "sns.barplot(y=e.index, x=e['Sales'], ci=None)"
   ]
  },
  {
   "cell_type": "code",
   "execution_count": 30,
   "id": "e066d6a9",
   "metadata": {},
   "outputs": [],
   "source": [
    "f = pd.pivot_table(df,index = 'Region',values = 'Discount',aggfunc='mean')"
   ]
  },
  {
   "cell_type": "code",
   "execution_count": 31,
   "id": "26648180",
   "metadata": {},
   "outputs": [
    {
     "name": "stderr",
     "output_type": "stream",
     "text": [
      "C:\\Users\\Abhiram\\AppData\\Local\\Temp\\ipykernel_9988\\2789752228.py:1: FutureWarning: \n",
      "\n",
      "The `ci` parameter is deprecated. Use `errorbar=None` for the same effect.\n",
      "\n",
      "  sns.barplot(y=f.index, x=f['Discount'], ci=None)\n"
     ]
    },
    {
     "data": {
      "text/plain": [
       "<Axes: xlabel='Discount', ylabel='Region'>"
      ]
     },
     "execution_count": 31,
     "metadata": {},
     "output_type": "execute_result"
    },
    {
     "data": {
      "image/png": "[encoded data removed]",
      "text/plain": [
       "<Figure size 640x480 with 1 Axes>"
      ]
     },
     "metadata": {},
     "output_type": "display_data"
    }
   ],
   "source": [
    "sns.barplot(y=f.index, x=f['Discount'], ci=None)"
   ]
  },
  {
   "cell_type": "code",
   "execution_count": null,
   "id": "9b7b5428",
   "metadata": {},
   "outputs": [],
   "source": []
  },
  {
   "cell_type": "code",
   "execution_count": null,
   "id": "bf750ccb",
   "metadata": {},
   "outputs": [],
   "source": []
  },
  {
   "cell_type": "code",
   "execution_count": null,
   "id": "9000ce0a",
   "metadata": {},
   "outputs": [],
   "source": []
  },
  {
   "cell_type": "code",
   "execution_count": null,
   "id": "42498f74",
   "metadata": {},
   "outputs": [],
   "source": []
  },
  {
   "cell_type": "code",
   "execution_count": null,
   "id": "6e9f134a",
   "metadata": {},
   "outputs": [],
   "source": []
  }
 ],
 "metadata": {
  "kernelspec": {
   "display_name": "base",
   "language": "python",
   "name": "python3"
  },
  "language_info": {
   "codemirror_mode": {
    "name": "ipython",
    "version": 3
   },
   "file_extension": ".py",
   "mimetype": "text/x-python",
   "name": "python",
   "nbconvert_exporter": "python",
   "pygments_lexer": "ipython3",
   "version": "3.11.5"
  }
 },
 "nbformat": 4,
 "nbformat_minor": 5
}
